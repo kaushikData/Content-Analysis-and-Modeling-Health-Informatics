{
 "cells": [
  {
   "cell_type": "markdown",
   "metadata": {},
   "source": [
    "# Importing Libraries and Data"
   ]
  },
  {
   "cell_type": "code",
   "execution_count": 290,
   "metadata": {
    "ExecuteTime": {
     "end_time": "2019-12-14T08:25:45.944943Z",
     "start_time": "2019-12-14T08:25:45.942381Z"
    }
   },
   "outputs": [],
   "source": [
    "import numpy as np\n",
    "import pandas as pd\n",
    "import re\n",
    "from nltk.corpus import stopwords"
   ]
  },
  {
   "cell_type": "code",
   "execution_count": 291,
   "metadata": {
    "ExecuteTime": {
     "end_time": "2019-12-14T08:25:49.720458Z",
     "start_time": "2019-12-14T08:25:46.108089Z"
    }
   },
   "outputs": [],
   "source": [
    "df =pd.read_excel('Downloads/Data with Chief Complaints Set 1 8 26 2019.xlsx')"
   ]
  },
  {
   "cell_type": "code",
   "execution_count": 292,
   "metadata": {
    "ExecuteTime": {
     "end_time": "2019-12-14T08:25:49.742201Z",
     "start_time": "2019-12-14T08:25:49.722557Z"
    }
   },
   "outputs": [
    {
     "data": {
      "text/html": [
       "<div>\n",
       "<style scoped>\n",
       "    .dataframe tbody tr th:only-of-type {\n",
       "        vertical-align: middle;\n",
       "    }\n",
       "\n",
       "    .dataframe tbody tr th {\n",
       "        vertical-align: top;\n",
       "    }\n",
       "\n",
       "    .dataframe thead th {\n",
       "        text-align: right;\n",
       "    }\n",
       "</style>\n",
       "<table border=\"1\" class=\"dataframe\">\n",
       "  <thead>\n",
       "    <tr style=\"text-align: right;\">\n",
       "      <th></th>\n",
       "      <th>Record #</th>\n",
       "      <th>Chief Complaint</th>\n",
       "      <th>Age</th>\n",
       "      <th>Sex</th>\n",
       "      <th>Acuity (initial)</th>\n",
       "      <th>Area of Care</th>\n",
       "      <th>Disposition</th>\n",
       "      <th>Unnamed: 7</th>\n",
       "      <th>ICD-9 1</th>\n",
       "      <th>Unnamed: 9</th>\n",
       "      <th>In ED</th>\n",
       "    </tr>\n",
       "  </thead>\n",
       "  <tbody>\n",
       "    <tr>\n",
       "      <th>6753</th>\n",
       "      <td>8891</td>\n",
       "      <td>Chest Pain</td>\n",
       "      <td>55yr</td>\n",
       "      <td>M</td>\n",
       "      <td>2.0</td>\n",
       "      <td>Resuscitation</td>\n",
       "      <td>Admit as inpatient</td>\n",
       "      <td>NaN</td>\n",
       "      <td>427.31</td>\n",
       "      <td>NaN</td>\n",
       "      <td>215.0</td>\n",
       "    </tr>\n",
       "    <tr>\n",
       "      <th>33207</th>\n",
       "      <td>43750</td>\n",
       "      <td>Tooth Pain, Left</td>\n",
       "      <td>26yr</td>\n",
       "      <td>M</td>\n",
       "      <td>3.0</td>\n",
       "      <td>West</td>\n",
       "      <td>Home</td>\n",
       "      <td>NaN</td>\n",
       "      <td>351.0</td>\n",
       "      <td>NaN</td>\n",
       "      <td>173.0</td>\n",
       "    </tr>\n",
       "    <tr>\n",
       "      <th>27577</th>\n",
       "      <td>36491</td>\n",
       "      <td>Neck Pain</td>\n",
       "      <td>21yr</td>\n",
       "      <td>M</td>\n",
       "      <td>3.0</td>\n",
       "      <td>West</td>\n",
       "      <td>Home</td>\n",
       "      <td>NaN</td>\n",
       "      <td>NaN</td>\n",
       "      <td>NaN</td>\n",
       "      <td>313.0</td>\n",
       "    </tr>\n",
       "    <tr>\n",
       "      <th>10422</th>\n",
       "      <td>13758</td>\n",
       "      <td>Medication Refill</td>\n",
       "      <td>51yr</td>\n",
       "      <td>F</td>\n",
       "      <td>3.0</td>\n",
       "      <td>East</td>\n",
       "      <td>Home</td>\n",
       "      <td>NaN</td>\n",
       "      <td>V68.1</td>\n",
       "      <td>NaN</td>\n",
       "      <td>67.0</td>\n",
       "    </tr>\n",
       "    <tr>\n",
       "      <th>11018</th>\n",
       "      <td>14570</td>\n",
       "      <td>'Danger To Others'</td>\n",
       "      <td>28yr</td>\n",
       "      <td>M</td>\n",
       "      <td>3.0</td>\n",
       "      <td>Psych Lock-down</td>\n",
       "      <td>Admit as inpatient</td>\n",
       "      <td>NaN</td>\n",
       "      <td>311</td>\n",
       "      <td>NaN</td>\n",
       "      <td>719.0</td>\n",
       "    </tr>\n",
       "  </tbody>\n",
       "</table>\n",
       "</div>"
      ],
      "text/plain": [
       "       Record #     Chief Complaint   Age Sex  Acuity (initial)  \\\n",
       "6753       8891          Chest Pain  55yr   M               2.0   \n",
       "33207     43750    Tooth Pain, Left  26yr   M               3.0   \n",
       "27577     36491           Neck Pain  21yr   M               3.0   \n",
       "10422     13758   Medication Refill  51yr   F               3.0   \n",
       "11018     14570  'Danger To Others'  28yr   M               3.0   \n",
       "\n",
       "          Area of Care         Disposition  Unnamed: 7 ICD-9 1  Unnamed: 9  \\\n",
       "6753     Resuscitation  Admit as inpatient         NaN  427.31         NaN   \n",
       "33207             West                Home         NaN   351.0         NaN   \n",
       "27577             West                Home         NaN     NaN         NaN   \n",
       "10422             East                Home         NaN   V68.1         NaN   \n",
       "11018  Psych Lock-down  Admit as inpatient         NaN     311         NaN   \n",
       "\n",
       "       In ED  \n",
       "6753   215.0  \n",
       "33207  173.0  \n",
       "27577  313.0  \n",
       "10422   67.0  \n",
       "11018  719.0  "
      ]
     },
     "execution_count": 292,
     "metadata": {},
     "output_type": "execute_result"
    }
   ],
   "source": [
    "df.sample(5)"
   ]
  },
  {
   "cell_type": "code",
   "execution_count": 293,
   "metadata": {
    "ExecuteTime": {
     "end_time": "2019-12-14T08:25:49.747671Z",
     "start_time": "2019-12-14T08:25:49.744669Z"
    }
   },
   "outputs": [
    {
     "data": {
      "text/plain": [
       "(40930, 11)"
      ]
     },
     "execution_count": 293,
     "metadata": {},
     "output_type": "execute_result"
    }
   ],
   "source": [
    "df.shape"
   ]
  },
  {
   "cell_type": "markdown",
   "metadata": {},
   "source": [
    "# Preprocessing Chief Complaint (text)"
   ]
  },
  {
   "cell_type": "code",
   "execution_count": 294,
   "metadata": {
    "ExecuteTime": {
     "end_time": "2019-12-14T08:25:49.759854Z",
     "start_time": "2019-12-14T08:25:49.750110Z"
    }
   },
   "outputs": [],
   "source": [
    "df = df[df['Chief Complaint'].notnull()] # remove nan"
   ]
  },
  {
   "cell_type": "code",
   "execution_count": 295,
   "metadata": {
    "ExecuteTime": {
     "end_time": "2019-12-14T08:25:49.836131Z",
     "start_time": "2019-12-14T08:25:49.761845Z"
    }
   },
   "outputs": [],
   "source": [
    "df['Chief Complaint'] = df['Chief Complaint'].astype(str)"
   ]
  },
  {
   "cell_type": "code",
   "execution_count": 296,
   "metadata": {
    "ExecuteTime": {
     "end_time": "2019-12-14T08:25:49.843281Z",
     "start_time": "2019-12-14T08:25:49.839198Z"
    }
   },
   "outputs": [
    {
     "name": "stdout",
     "output_type": "stream",
     "text": [
      "{'myself', 'because', \"should've\", 'same', 'who', 'there', 'on', 'then', \"haven't\", 'aren', 'over', \"weren't\", 'himself', 'she', 'yourselves', \"you'll\", 'which', 'at', 'didn', 'here', 'am', 'as', 'will', 'again', 'itself', 'couldn', 'this', 'more', 'each', 'isn', 'before', 'from', 'll', 'through', 'than', 'ain', 'we', 'and', 'those', 'hasn', 'between', 'all', 'up', 'with', 'was', 'ourselves', 'themselves', 'herself', 'how', 'down', \"it's\", 'if', 'her', 'under', 'been', 'should', 'needn', 'other', \"wasn't\", 'nor', 'he', 'hadn', 'shouldn', 'above', 'theirs', 'its', 'after', 'did', 'be', 'do', 'a', 'mustn', 'him', 'not', 'o', 'their', 'no', 'just', 'had', 'my', 'mightn', 'when', \"aren't\", 'further', 'your', 'such', 'of', 'd', 'y', 'below', \"mightn't\", 'while', 'm', 'ours', 'to', \"you're\", 's', 'shan', 'our', 'both', 'having', 'don', 'very', 'it', \"you've\", \"won't\", 'against', 've', 'once', 't', 'does', \"mustn't\", 'me', \"that'll\", 'doing', 'them', 'an', 'ma', 'few', 'weren', 'have', 'his', 'own', 'most', 'were', 'in', 'won', 'doesn', \"shouldn't\", 'until', 'during', 're', \"doesn't\", 'is', 'these', 'too', 'but', \"don't\", 'i', 'any', 'wouldn', \"shan't\", \"isn't\", \"she's\", 'about', 'off', \"needn't\", 'that', \"couldn't\", 'yourself', 'only', 'out', 'are', 'the', 'can', 'into', 'what', \"wouldn't\", 'now', 'where', 'yours', 'being', 'hers', \"hasn't\", \"hadn't\", \"you'd\", 'by', 'so', 'or', 'wasn', 'whom', 'why', 'has', 'you', 'for', \"didn't\", 'haven', 'they', 'some'}\n"
     ]
    }
   ],
   "source": [
    "stopWords = set(stopwords.words('english'))\n",
    "print (stopWords)"
   ]
  },
  {
   "cell_type": "code",
   "execution_count": 300,
   "metadata": {
    "ExecuteTime": {
     "end_time": "2019-12-14T08:26:28.584099Z",
     "start_time": "2019-12-14T08:26:28.305012Z"
    }
   },
   "outputs": [
    {
     "name": "stdout",
     "output_type": "stream",
     "text": [
      "Before preprocessing text sample: referred  eval  r humeral head fx    \n",
      "After preprocessing text sample: referred eval r humeral head fx\n"
     ]
    }
   ],
   "source": [
    "print (\"Before preprocessing text sample:\", df['Chief Complaint'][16608])\n",
    "sentences = df['Chief Complaint']\n",
    "sentences = sentences.apply(lambda x: re.findall(r\"[\\w']+\", x)) #removing punctuations\n",
    "sentences = [[x.lower() for x in sentence] for sentence in sentences] #converting all words to lower cases\n",
    "sentences = [[x if x not in stopWords else '' for x in sentence] for sentence in sentences] #removing stopwords\n",
    "sentences = [' '.join(sentence) for sentence in sentences]\n",
    "df['Chief Complaint'] = sentences\n",
    "df['Chief Complaint'] = df['Chief Complaint'].str.replace('\\d+', '') #removing digits\n",
    "print (\"After preprocessing text sample:\", df['Chief Complaint'][16608])"
   ]
  },
  {
   "cell_type": "markdown",
   "metadata": {
    "ExecuteTime": {
     "end_time": "2019-12-14T06:59:25.954735Z",
     "start_time": "2019-12-14T06:59:25.927430Z"
    }
   },
   "source": [
    "# Preprocessing ICD codes (label)"
   ]
  },
  {
   "cell_type": "code",
   "execution_count": 302,
   "metadata": {
    "ExecuteTime": {
     "end_time": "2019-12-14T08:26:31.642022Z",
     "start_time": "2019-12-14T08:26:31.635110Z"
    }
   },
   "outputs": [],
   "source": [
    "df['ICD-9 1'] = df['ICD-9 1'].astype(str)"
   ]
  },
  {
   "cell_type": "code",
   "execution_count": 303,
   "metadata": {
    "ExecuteTime": {
     "end_time": "2019-12-14T08:26:32.203749Z",
     "start_time": "2019-12-14T08:26:32.184405Z"
    }
   },
   "outputs": [],
   "source": [
    "df.dropna(subset=['ICD-9 1'],how = 'any', inplace = True)\n",
    "df = df[df['ICD-9 1'] != 'nan']\n",
    "#df = df[np.isfinite(df['ICD-9 1'])]"
   ]
  },
  {
   "cell_type": "code",
   "execution_count": 304,
   "metadata": {
    "ExecuteTime": {
     "end_time": "2019-12-14T08:26:32.995869Z",
     "start_time": "2019-12-14T08:26:32.992402Z"
    }
   },
   "outputs": [
    {
     "data": {
      "text/plain": [
       "(32088, 11)"
      ]
     },
     "execution_count": 304,
     "metadata": {},
     "output_type": "execute_result"
    }
   ],
   "source": [
    "df.shape"
   ]
  },
  {
   "cell_type": "markdown",
   "metadata": {},
   "source": [
    "## Deriving ICD Level 1  "
   ]
  },
  {
   "cell_type": "code",
   "execution_count": 305,
   "metadata": {
    "ExecuteTime": {
     "end_time": "2019-12-14T08:26:35.641115Z",
     "start_time": "2019-12-14T08:26:35.586897Z"
    }
   },
   "outputs": [],
   "source": [
    "df['ICD-level1'] = df['ICD-9 1'].apply(lambda x : x.split('.')[0])"
   ]
  },
  {
   "cell_type": "code",
   "execution_count": 306,
   "metadata": {
    "ExecuteTime": {
     "end_time": "2019-12-14T08:26:35.902117Z",
     "start_time": "2019-12-14T08:26:35.875298Z"
    }
   },
   "outputs": [
    {
     "data": {
      "text/html": [
       "<div>\n",
       "<style scoped>\n",
       "    .dataframe tbody tr th:only-of-type {\n",
       "        vertical-align: middle;\n",
       "    }\n",
       "\n",
       "    .dataframe tbody tr th {\n",
       "        vertical-align: top;\n",
       "    }\n",
       "\n",
       "    .dataframe thead th {\n",
       "        text-align: right;\n",
       "    }\n",
       "</style>\n",
       "<table border=\"1\" class=\"dataframe\">\n",
       "  <thead>\n",
       "    <tr style=\"text-align: right;\">\n",
       "      <th></th>\n",
       "      <th>Record #</th>\n",
       "      <th>Chief Complaint</th>\n",
       "      <th>Age</th>\n",
       "      <th>Sex</th>\n",
       "      <th>Acuity (initial)</th>\n",
       "      <th>Area of Care</th>\n",
       "      <th>Disposition</th>\n",
       "      <th>Unnamed: 7</th>\n",
       "      <th>ICD-9 1</th>\n",
       "      <th>Unnamed: 9</th>\n",
       "      <th>In ED</th>\n",
       "      <th>ICD-level1</th>\n",
       "    </tr>\n",
       "  </thead>\n",
       "  <tbody>\n",
       "    <tr>\n",
       "      <th>18940</th>\n",
       "      <td>25176</td>\n",
       "      <td>body pain</td>\n",
       "      <td>53yr</td>\n",
       "      <td>M</td>\n",
       "      <td>2.0</td>\n",
       "      <td>Resuscitation</td>\n",
       "      <td>Home - Refer to Social Service</td>\n",
       "      <td>NaN</td>\n",
       "      <td>724.2</td>\n",
       "      <td>NaN</td>\n",
       "      <td>426.0</td>\n",
       "      <td>724</td>\n",
       "    </tr>\n",
       "    <tr>\n",
       "      <th>11515</th>\n",
       "      <td>15225</td>\n",
       "      <td>diarrhea</td>\n",
       "      <td>61yr</td>\n",
       "      <td>M</td>\n",
       "      <td>3.0</td>\n",
       "      <td>West</td>\n",
       "      <td>Home - Refer to Social Service</td>\n",
       "      <td>NaN</td>\n",
       "      <td>787.91</td>\n",
       "      <td>NaN</td>\n",
       "      <td>240.0</td>\n",
       "      <td>787</td>\n",
       "    </tr>\n",
       "    <tr>\n",
       "      <th>37224</th>\n",
       "      <td>48936</td>\n",
       "      <td>abdominal pain</td>\n",
       "      <td>48yr</td>\n",
       "      <td>F</td>\n",
       "      <td>3.0</td>\n",
       "      <td>East</td>\n",
       "      <td>Home</td>\n",
       "      <td>NaN</td>\n",
       "      <td>789.02</td>\n",
       "      <td>NaN</td>\n",
       "      <td>438.0</td>\n",
       "      <td>789</td>\n",
       "    </tr>\n",
       "    <tr>\n",
       "      <th>16066</th>\n",
       "      <td>21379</td>\n",
       "      <td>p allergic rxn</td>\n",
       "      <td>42yr</td>\n",
       "      <td>F</td>\n",
       "      <td>4.0</td>\n",
       "      <td>UADC</td>\n",
       "      <td>Left After Being Seen</td>\n",
       "      <td>NaN</td>\n",
       "      <td>995.3</td>\n",
       "      <td>NaN</td>\n",
       "      <td>61.0</td>\n",
       "      <td>995</td>\n",
       "    </tr>\n",
       "    <tr>\n",
       "      <th>4402</th>\n",
       "      <td>5749</td>\n",
       "      <td>bloody urine f c drainage bag x week</td>\n",
       "      <td>50yr</td>\n",
       "      <td>M</td>\n",
       "      <td>2.0</td>\n",
       "      <td>North</td>\n",
       "      <td>Home</td>\n",
       "      <td>NaN</td>\n",
       "      <td>599.0</td>\n",
       "      <td>NaN</td>\n",
       "      <td>208.0</td>\n",
       "      <td>599</td>\n",
       "    </tr>\n",
       "  </tbody>\n",
       "</table>\n",
       "</div>"
      ],
      "text/plain": [
       "       Record #                       Chief Complaint   Age Sex  \\\n",
       "18940     25176                             body pain  53yr   M   \n",
       "11515     15225                              diarrhea  61yr   M   \n",
       "37224     48936                        abdominal pain  48yr   F   \n",
       "16066     21379                        p allergic rxn  42yr   F   \n",
       "4402       5749  bloody urine f c drainage bag x week  50yr   M   \n",
       "\n",
       "       Acuity (initial)   Area of Care                     Disposition  \\\n",
       "18940               2.0  Resuscitation  Home - Refer to Social Service   \n",
       "11515               3.0           West  Home - Refer to Social Service   \n",
       "37224               3.0           East                            Home   \n",
       "16066               4.0           UADC           Left After Being Seen   \n",
       "4402                2.0          North                            Home   \n",
       "\n",
       "       Unnamed: 7 ICD-9 1  Unnamed: 9  In ED ICD-level1  \n",
       "18940         NaN   724.2         NaN  426.0        724  \n",
       "11515         NaN  787.91         NaN  240.0        787  \n",
       "37224         NaN  789.02         NaN  438.0        789  \n",
       "16066         NaN   995.3         NaN   61.0        995  \n",
       "4402          NaN   599.0         NaN  208.0        599  "
      ]
     },
     "execution_count": 306,
     "metadata": {},
     "output_type": "execute_result"
    }
   ],
   "source": [
    "df.sample(5)"
   ]
  },
  {
   "cell_type": "code",
   "execution_count": 307,
   "metadata": {
    "ExecuteTime": {
     "end_time": "2019-12-14T08:26:36.131667Z",
     "start_time": "2019-12-14T08:26:36.109388Z"
    }
   },
   "outputs": [
    {
     "data": {
      "text/plain": [
       "E819    152\n",
       "E968     71\n",
       "E814     60\n",
       "E906     58\n",
       "E888     54\n",
       "E966     46\n",
       "E922     46\n",
       "E920     17\n",
       "E813     10\n",
       "E881     10\n",
       "E812     10\n",
       "E826      7\n",
       "E885      6\n",
       "E880      5\n",
       "E953      5\n",
       "E950      3\n",
       "E958      3\n",
       "E811      3\n",
       "E860      2\n",
       "E905      2\n",
       "E828      2\n",
       "E884      2\n",
       "E882      2\n",
       "E956      2\n",
       "E914      1\n",
       "E858      1\n",
       "E980      1\n",
       "E926      1\n",
       "E925      1\n",
       "E983      1\n",
       "E800      1\n",
       "E850      1\n",
       "E886      1\n",
       "E957      1\n",
       "Name: ICD-level1, dtype: int64"
      ]
     },
     "execution_count": 307,
     "metadata": {},
     "output_type": "execute_result"
    }
   ],
   "source": [
    "df[df['ICD-level1'].str.get(0).isin(['E'])]['ICD-level1'].value_counts()"
   ]
  },
  {
   "cell_type": "code",
   "execution_count": 308,
   "metadata": {
    "ExecuteTime": {
     "end_time": "2019-12-14T08:26:36.366696Z",
     "start_time": "2019-12-14T08:26:36.344624Z"
    }
   },
   "outputs": [
    {
     "data": {
      "text/plain": [
       "V68    286\n",
       "V70    254\n",
       "V67     80\n",
       "V54     39\n",
       "V72     25\n",
       "V58     23\n",
       "V22     23\n",
       "V65     16\n",
       "V55     13\n",
       "V60     10\n",
       "V01      9\n",
       "V44      6\n",
       "V23      3\n",
       "V53      3\n",
       "V74      3\n",
       "V25      3\n",
       "V82      3\n",
       "V62      2\n",
       "V40      2\n",
       "V42      2\n",
       "V45      1\n",
       "V04      1\n",
       "V11      1\n",
       "V08      1\n",
       "V30      1\n",
       "V71      1\n",
       "Name: ICD-level1, dtype: int64"
      ]
     },
     "execution_count": 308,
     "metadata": {},
     "output_type": "execute_result"
    }
   ],
   "source": [
    "df[df['ICD-level1'].str.get(0).isin(['V'])]['ICD-level1'].value_counts()"
   ]
  },
  {
   "cell_type": "code",
   "execution_count": 309,
   "metadata": {
    "ExecuteTime": {
     "end_time": "2019-12-14T08:26:36.604586Z",
     "start_time": "2019-12-14T08:26:36.559770Z"
    }
   },
   "outputs": [],
   "source": [
    "mask = df['ICD-level1'].str.get(0).isin(['V'])\n",
    "column_name = 'ICD-level1'\n",
    "df.loc[mask, column_name] = 'V'\n",
    "mask = df['ICD-level1'].str.get(0).isin(['E'])\n",
    "df.loc[mask, column_name] = 'E'\n",
    "#df[df['ICD-level1'].str.get(0).isin(['E'])]['ICD-level1'] = 'E'"
   ]
  },
  {
   "cell_type": "code",
   "execution_count": 310,
   "metadata": {
    "ExecuteTime": {
     "end_time": "2019-12-14T08:26:37.327878Z",
     "start_time": "2019-12-14T08:26:37.305529Z"
    }
   },
   "outputs": [
    {
     "data": {
      "text/plain": [
       "V    811\n",
       "Name: ICD-level1, dtype: int64"
      ]
     },
     "execution_count": 310,
     "metadata": {},
     "output_type": "execute_result"
    }
   ],
   "source": [
    "df[df['ICD-level1'].str.get(0).isin(['V'])]['ICD-level1'].value_counts()"
   ]
  },
  {
   "cell_type": "raw",
   "metadata": {
    "ExecuteTime": {
     "end_time": "2019-12-14T07:20:49.313735Z",
     "start_time": "2019-12-14T07:20:49.305946Z"
    }
   },
   "source": [
    "From looking at the top of the hierarchy, these are the ICD9-codes that are in the first level of the hierarchy.\n",
    "\n",
    "001-139 INFECTIOUS AND PARASITIC DISEASES \n",
    "140-239 NEOPLASMS \n",
    "240-279 ENDOCRINE, NUTRITIONAL AND METABOLIC DISEASES, AND IMMUNITY DISORDERS \n",
    "290-319 MENTAL DISORDERS \n",
    "320-389 DISEASES OF THE NERVOUS SYSTEM AND SENSE ORGANS \n",
    "390-459 DISEASES OF THE CIRCULATORY SYSTEM \n",
    "460-519 DISEASES OF THE RESPIRATORY SYSTEM \n",
    "520-579 DISEASES OF THE DIGESTIVE SYSTEM \n",
    "580-629 DISEASES OF THE GENITOURINARY SYSTEM \n",
    "630-679 COMPLICATIONS OF PREGNANCY, CHILDBIRTH, AND THE PUERPERIUM \n",
    "680-709 DISEASES OF THE SKIN AND SUBCUTANEOUS TISSUE \n",
    "710-739 DISEASES OF THE MUSCULOSKELETAL SYSTEM AND CONNECTIVE TISSUE \n",
    "760-779 CERTAIN CONDITIONS ORIGINATING IN THE PERINATAL PERIOD \n",
    "780-789 SYMPTOMS \n",
    "790-796 NONSPECIFIC ABNORMAL FINDINGS \n",
    "797 Senility without mention of psychosis\n",
    "798 Sudden death, cause unknown\n",
    "799 Other ill-defined and unknown causes of morbidity and mortality\n",
    "800-999 INJURY AND POISONING\n",
    "The way that ICD9-codes are coded makes easy to find out which icd9-code code is the granparent in the first level, for example:\n",
    "\n",
    "leave-code  code-at-first-level\n",
    "64833    -> 630-679\n",
    "4019     -> 390-459\n",
    "\n",
    "E EXTERNAL CAUSES FOR INJURY\n",
    "V SUPPLEMENTARY CLASSIFICATION OF FACTORS INFLUENCING HEALTH STATUS"
   ]
  },
  {
   "cell_type": "code",
   "execution_count": 311,
   "metadata": {
    "ExecuteTime": {
     "end_time": "2019-12-14T08:26:38.734268Z",
     "start_time": "2019-12-14T08:26:38.725578Z"
    }
   },
   "outputs": [],
   "source": [
    "def d_map(i):\n",
    "    \n",
    "    if i == 'E':\n",
    "        return 'EXTERNAL CAUSES FOR INJURY'\n",
    "    if i == 'V':\n",
    "        return 'SUPPLEMENTARY CLASSIFICATION OF FACTORS INFLUENCING HEALTH STATUS'\n",
    "    if i == '870-897?':\n",
    "        return 'MISADVENTURES TO PATIENTS DURING SURGICAL AND MEDICAL CARE'\n",
    "\n",
    "    if i.isdigit():\n",
    "        i = int(i)\n",
    "        if i >= 0 and i <= 139:\n",
    "            return 'INFECTIOUS AND PARASITIC DISEASES'\n",
    "        elif i <= 239:\n",
    "            return 'NEOPLASMS'\n",
    "        elif i <= 279:\n",
    "            return 'ENDOCRINE, NUTRITIONAL AND METABOLIC DISEASES, AND IMMUNITY DISORDERS'\n",
    "        elif i <= 319:\n",
    "            return 'MENTAL DISORDERS'\n",
    "        elif i <= 389:\n",
    "            return 'DISEASES OF THE NERVOUS SYSTEM AND SENSE ORGANS'\n",
    "        elif i <= 459:\n",
    "            return 'DISEASES OF THE CIRCULATORY SYSTEM'\n",
    "        elif i<= 519:\n",
    "            return 'DISEASES OF THE RESPIRATORY SYSTEM'\n",
    "        elif i <= 579:\n",
    "            return 'DISEASES OF THE DIGESTIVE SYSTEM'\n",
    "        elif i <= 629:\n",
    "            return 'DISEASES OF THE GENITOURINARY SYSTEM'\n",
    "        elif i <= 679:\n",
    "            return 'COMPLICATIONS OF PREGNANCY, CHILDBIRTH, AND THE PUERPERIUM'\n",
    "        elif i <= 709:\n",
    "            return 'DISEASES OF THE SKIN AND SUBCUTANEOUS TISSUE'\n",
    "        elif i <= 739:\n",
    "            return 'DISEASES OF THE MUSCULOSKELETAL SYSTEM AND CONNECTIVE TISSUE'\n",
    "        elif i >= 760 and i <= 779:\n",
    "            return 'CERTAIN CONDITIONS ORIGINATING IN THE PERINATAL PERIOD'\n",
    "        elif i <= 789:\n",
    "            return 'SYMPTOMS'\n",
    "        elif i <= 796:\n",
    "            return 'NONSPECIFIC ABNORMAL FINDINGS'\n",
    "        elif i == 797:\n",
    "            return 'Senility without mention of psychosis'\n",
    "        elif i == 798:\n",
    "            return 'Sudden death, cause unknown'\n",
    "        elif i == 799:\n",
    "            return 'Other ill-defined and unknown causes of morbidity and mortality'\n",
    "        elif i <= 999:\n",
    "            return  'INJURY AND POISONING'\n",
    "        else:\n",
    "            print (i)\n",
    "            return 'OTHERS'\n",
    "    return 'OTHERS'"
   ]
  },
  {
   "cell_type": "code",
   "execution_count": 312,
   "metadata": {
    "ExecuteTime": {
     "end_time": "2019-12-14T08:26:40.664193Z",
     "start_time": "2019-12-14T08:26:40.649240Z"
    }
   },
   "outputs": [
    {
     "data": {
      "text/html": [
       "<div>\n",
       "<style scoped>\n",
       "    .dataframe tbody tr th:only-of-type {\n",
       "        vertical-align: middle;\n",
       "    }\n",
       "\n",
       "    .dataframe tbody tr th {\n",
       "        vertical-align: top;\n",
       "    }\n",
       "\n",
       "    .dataframe thead th {\n",
       "        text-align: right;\n",
       "    }\n",
       "</style>\n",
       "<table border=\"1\" class=\"dataframe\">\n",
       "  <thead>\n",
       "    <tr style=\"text-align: right;\">\n",
       "      <th></th>\n",
       "      <th>Record #</th>\n",
       "      <th>Chief Complaint</th>\n",
       "      <th>Age</th>\n",
       "      <th>Sex</th>\n",
       "      <th>Acuity (initial)</th>\n",
       "      <th>Area of Care</th>\n",
       "      <th>Disposition</th>\n",
       "      <th>Unnamed: 7</th>\n",
       "      <th>ICD-9 1</th>\n",
       "      <th>Unnamed: 9</th>\n",
       "      <th>In ED</th>\n",
       "      <th>ICD-level1</th>\n",
       "    </tr>\n",
       "  </thead>\n",
       "  <tbody>\n",
       "    <tr>\n",
       "      <th>11543</th>\n",
       "      <td>15265</td>\n",
       "      <td>suicidal ideation</td>\n",
       "      <td>46yr</td>\n",
       "      <td>M</td>\n",
       "      <td>3.0</td>\n",
       "      <td>Psych Lock-down</td>\n",
       "      <td>Transfer to Outside Facility</td>\n",
       "      <td>NaN</td>\n",
       "      <td>311</td>\n",
       "      <td>NaN</td>\n",
       "      <td>2191.0</td>\n",
       "      <td>311</td>\n",
       "    </tr>\n",
       "    <tr>\n",
       "      <th>22561</th>\n",
       "      <td>29934</td>\n",
       "      <td>right mid quadrant pain</td>\n",
       "      <td>43yr</td>\n",
       "      <td>F</td>\n",
       "      <td>2.0</td>\n",
       "      <td>East</td>\n",
       "      <td>Home</td>\n",
       "      <td>NaN</td>\n",
       "      <td>599.7</td>\n",
       "      <td>NaN</td>\n",
       "      <td>205.0</td>\n",
       "      <td>599</td>\n",
       "    </tr>\n",
       "    <tr>\n",
       "      <th>9714</th>\n",
       "      <td>12785</td>\n",
       "      <td>cough fever</td>\n",
       "      <td>41yr</td>\n",
       "      <td>M</td>\n",
       "      <td>2.0</td>\n",
       "      <td>Observation</td>\n",
       "      <td>Home</td>\n",
       "      <td>NaN</td>\n",
       "      <td>482.9</td>\n",
       "      <td>NaN</td>\n",
       "      <td>2311.0</td>\n",
       "      <td>482</td>\n",
       "    </tr>\n",
       "    <tr>\n",
       "      <th>8727</th>\n",
       "      <td>11481</td>\n",
       "      <td>vaginal bleeding</td>\n",
       "      <td>38yr</td>\n",
       "      <td>F</td>\n",
       "      <td>3.0</td>\n",
       "      <td>West</td>\n",
       "      <td>Transfer to OB Triage/Gyn Procedure</td>\n",
       "      <td>NaN</td>\n",
       "      <td>640.90</td>\n",
       "      <td>NaN</td>\n",
       "      <td>234.0</td>\n",
       "      <td>640</td>\n",
       "    </tr>\n",
       "    <tr>\n",
       "      <th>12204</th>\n",
       "      <td>16131</td>\n",
       "      <td>asthma</td>\n",
       "      <td>47yr</td>\n",
       "      <td>F</td>\n",
       "      <td>4.0</td>\n",
       "      <td>North</td>\n",
       "      <td>Home</td>\n",
       "      <td>NaN</td>\n",
       "      <td>493.90</td>\n",
       "      <td>NaN</td>\n",
       "      <td>204.0</td>\n",
       "      <td>493</td>\n",
       "    </tr>\n",
       "  </tbody>\n",
       "</table>\n",
       "</div>"
      ],
      "text/plain": [
       "       Record #          Chief Complaint   Age Sex  Acuity (initial)  \\\n",
       "11543     15265        suicidal ideation  46yr   M               3.0   \n",
       "22561     29934  right mid quadrant pain  43yr   F               2.0   \n",
       "9714      12785              cough fever  41yr   M               2.0   \n",
       "8727      11481         vaginal bleeding  38yr   F               3.0   \n",
       "12204     16131                   asthma  47yr   F               4.0   \n",
       "\n",
       "          Area of Care                          Disposition  Unnamed: 7  \\\n",
       "11543  Psych Lock-down         Transfer to Outside Facility         NaN   \n",
       "22561             East                                 Home         NaN   \n",
       "9714       Observation                                 Home         NaN   \n",
       "8727              West  Transfer to OB Triage/Gyn Procedure         NaN   \n",
       "12204            North                                 Home         NaN   \n",
       "\n",
       "      ICD-9 1  Unnamed: 9   In ED ICD-level1  \n",
       "11543     311         NaN  2191.0        311  \n",
       "22561   599.7         NaN   205.0        599  \n",
       "9714    482.9         NaN  2311.0        482  \n",
       "8727   640.90         NaN   234.0        640  \n",
       "12204  493.90         NaN   204.0        493  "
      ]
     },
     "execution_count": 312,
     "metadata": {},
     "output_type": "execute_result"
    }
   ],
   "source": [
    "df.sample(5)"
   ]
  },
  {
   "cell_type": "markdown",
   "metadata": {},
   "source": [
    "## Generating class "
   ]
  },
  {
   "cell_type": "code",
   "execution_count": 315,
   "metadata": {
    "ExecuteTime": {
     "end_time": "2019-12-14T08:26:52.071024Z",
     "start_time": "2019-12-14T08:26:51.704148Z"
    }
   },
   "outputs": [],
   "source": [
    "df['class'] = df.apply(lambda row: d_map(row['ICD-level1']), axis = 1)"
   ]
  },
  {
   "cell_type": "code",
   "execution_count": 316,
   "metadata": {
    "ExecuteTime": {
     "end_time": "2019-12-14T08:26:52.742083Z",
     "start_time": "2019-12-14T08:26:52.727203Z"
    }
   },
   "outputs": [
    {
     "data": {
      "text/html": [
       "<div>\n",
       "<style scoped>\n",
       "    .dataframe tbody tr th:only-of-type {\n",
       "        vertical-align: middle;\n",
       "    }\n",
       "\n",
       "    .dataframe tbody tr th {\n",
       "        vertical-align: top;\n",
       "    }\n",
       "\n",
       "    .dataframe thead th {\n",
       "        text-align: right;\n",
       "    }\n",
       "</style>\n",
       "<table border=\"1\" class=\"dataframe\">\n",
       "  <thead>\n",
       "    <tr style=\"text-align: right;\">\n",
       "      <th></th>\n",
       "      <th>Record #</th>\n",
       "      <th>Chief Complaint</th>\n",
       "      <th>Age</th>\n",
       "      <th>Sex</th>\n",
       "      <th>Acuity (initial)</th>\n",
       "      <th>Area of Care</th>\n",
       "      <th>Disposition</th>\n",
       "      <th>Unnamed: 7</th>\n",
       "      <th>ICD-9 1</th>\n",
       "      <th>Unnamed: 9</th>\n",
       "      <th>In ED</th>\n",
       "      <th>ICD-level1</th>\n",
       "      <th>class</th>\n",
       "    </tr>\n",
       "  </thead>\n",
       "  <tbody>\n",
       "    <tr>\n",
       "      <th>40230</th>\n",
       "      <td>52870</td>\n",
       "      <td>laceration lip</td>\n",
       "      <td>21yr</td>\n",
       "      <td>M</td>\n",
       "      <td>4.0</td>\n",
       "      <td>Jail</td>\n",
       "      <td>Jail</td>\n",
       "      <td>NaN</td>\n",
       "      <td>873.53</td>\n",
       "      <td>NaN</td>\n",
       "      <td>531.0</td>\n",
       "      <td>873</td>\n",
       "      <td>INJURY AND POISONING</td>\n",
       "    </tr>\n",
       "    <tr>\n",
       "      <th>33135</th>\n",
       "      <td>43649</td>\n",
       "      <td>abdominal pain</td>\n",
       "      <td>72yr</td>\n",
       "      <td>F</td>\n",
       "      <td>3.0</td>\n",
       "      <td>East</td>\n",
       "      <td>Admit as inpatient</td>\n",
       "      <td>NaN</td>\n",
       "      <td>789.30</td>\n",
       "      <td>NaN</td>\n",
       "      <td>836.0</td>\n",
       "      <td>789</td>\n",
       "      <td>SYMPTOMS</td>\n",
       "    </tr>\n",
       "    <tr>\n",
       "      <th>26921</th>\n",
       "      <td>35650</td>\n",
       "      <td>abdominal pain</td>\n",
       "      <td>49yr</td>\n",
       "      <td>M</td>\n",
       "      <td>4.0</td>\n",
       "      <td>West</td>\n",
       "      <td>Home</td>\n",
       "      <td>NaN</td>\n",
       "      <td>608.89</td>\n",
       "      <td>NaN</td>\n",
       "      <td>110.0</td>\n",
       "      <td>608</td>\n",
       "      <td>DISEASES OF THE GENITOURINARY SYSTEM</td>\n",
       "    </tr>\n",
       "    <tr>\n",
       "      <th>10050</th>\n",
       "      <td>13258</td>\n",
       "      <td>r arm pain back pain</td>\n",
       "      <td>49yr</td>\n",
       "      <td>M</td>\n",
       "      <td>4.0</td>\n",
       "      <td>West</td>\n",
       "      <td>Home</td>\n",
       "      <td>NaN</td>\n",
       "      <td>724.5</td>\n",
       "      <td>NaN</td>\n",
       "      <td>136.0</td>\n",
       "      <td>724</td>\n",
       "      <td>DISEASES OF THE MUSCULOSKELETAL SYSTEM AND CON...</td>\n",
       "    </tr>\n",
       "    <tr>\n",
       "      <th>37618</th>\n",
       "      <td>49463</td>\n",
       "      <td>vaginal bleeding</td>\n",
       "      <td>43yr</td>\n",
       "      <td>F</td>\n",
       "      <td>3.0</td>\n",
       "      <td>West</td>\n",
       "      <td>Home</td>\n",
       "      <td>NaN</td>\n",
       "      <td>739.1</td>\n",
       "      <td>NaN</td>\n",
       "      <td>94.0</td>\n",
       "      <td>739</td>\n",
       "      <td>DISEASES OF THE MUSCULOSKELETAL SYSTEM AND CON...</td>\n",
       "    </tr>\n",
       "  </tbody>\n",
       "</table>\n",
       "</div>"
      ],
      "text/plain": [
       "       Record #       Chief Complaint   Age Sex  Acuity (initial)  \\\n",
       "40230     52870        laceration lip  21yr   M               4.0   \n",
       "33135     43649        abdominal pain  72yr   F               3.0   \n",
       "26921     35650        abdominal pain  49yr   M               4.0   \n",
       "10050     13258  r arm pain back pain  49yr   M               4.0   \n",
       "37618     49463      vaginal bleeding  43yr   F               3.0   \n",
       "\n",
       "      Area of Care         Disposition  Unnamed: 7 ICD-9 1  Unnamed: 9  In ED  \\\n",
       "40230         Jail                Jail         NaN  873.53         NaN  531.0   \n",
       "33135         East  Admit as inpatient         NaN  789.30         NaN  836.0   \n",
       "26921         West                Home         NaN  608.89         NaN  110.0   \n",
       "10050         West                Home         NaN   724.5         NaN  136.0   \n",
       "37618         West                Home         NaN   739.1         NaN   94.0   \n",
       "\n",
       "      ICD-level1                                              class  \n",
       "40230        873                               INJURY AND POISONING  \n",
       "33135        789                                           SYMPTOMS  \n",
       "26921        608               DISEASES OF THE GENITOURINARY SYSTEM  \n",
       "10050        724  DISEASES OF THE MUSCULOSKELETAL SYSTEM AND CON...  \n",
       "37618        739  DISEASES OF THE MUSCULOSKELETAL SYSTEM AND CON...  "
      ]
     },
     "execution_count": 316,
     "metadata": {},
     "output_type": "execute_result"
    }
   ],
   "source": [
    "df.sample(5)"
   ]
  },
  {
   "cell_type": "markdown",
   "metadata": {},
   "source": [
    "## Distribution of class"
   ]
  },
  {
   "cell_type": "code",
   "execution_count": 318,
   "metadata": {
    "ExecuteTime": {
     "end_time": "2019-12-14T08:27:08.590544Z",
     "start_time": "2019-12-14T08:27:08.581999Z"
    }
   },
   "outputs": [
    {
     "data": {
      "text/plain": [
       "SYMPTOMS                                                                 6521\n",
       "INJURY AND POISONING                                                     4747\n",
       "DISEASES OF THE MUSCULOSKELETAL SYSTEM AND CONNECTIVE TISSUE             2766\n",
       "MENTAL DISORDERS                                                         2667\n",
       "DISEASES OF THE DIGESTIVE SYSTEM                                         2649\n",
       "DISEASES OF THE GENITOURINARY SYSTEM                                     2292\n",
       "DISEASES OF THE RESPIRATORY SYSTEM                                       2121\n",
       "DISEASES OF THE NERVOUS SYSTEM AND SENSE ORGANS                          1789\n",
       "DISEASES OF THE CIRCULATORY SYSTEM                                       1487\n",
       "DISEASES OF THE SKIN AND SUBCUTANEOUS TISSUE                             1424\n",
       "ENDOCRINE, NUTRITIONAL AND METABOLIC DISEASES, AND IMMUNITY DISORDERS     871\n",
       "SUPPLEMENTARY CLASSIFICATION OF FACTORS INFLUENCING HEALTH STATUS         811\n",
       "INFECTIOUS AND PARASITIC DISEASES                                         590\n",
       "EXTERNAL CAUSES FOR INJURY                                                588\n",
       "NEOPLASMS                                                                 315\n",
       "COMPLICATIONS OF PREGNANCY, CHILDBIRTH, AND THE PUERPERIUM                234\n",
       "NONSPECIFIC ABNORMAL FINDINGS                                             148\n",
       "Other ill-defined and unknown causes of morbidity and mortality            31\n",
       "OTHERS                                                                     20\n",
       "MISADVENTURES TO PATIENTS DURING SURGICAL AND MEDICAL CARE                 12\n",
       "CERTAIN CONDITIONS ORIGINATING IN THE PERINATAL PERIOD                      4\n",
       "Sudden death, cause unknown                                                 1\n",
       "Name: class, dtype: int64"
      ]
     },
     "execution_count": 318,
     "metadata": {},
     "output_type": "execute_result"
    }
   ],
   "source": [
    "df['class'].value_counts(dropna = False)"
   ]
  },
  {
   "cell_type": "markdown",
   "metadata": {},
   "source": [
    "# Droping junk features"
   ]
  },
  {
   "cell_type": "code",
   "execution_count": 319,
   "metadata": {
    "ExecuteTime": {
     "end_time": "2019-12-14T08:27:10.524764Z",
     "start_time": "2019-12-14T08:27:10.518124Z"
    }
   },
   "outputs": [],
   "source": [
    "df.drop(['Unnamed: 9', 'Unnamed: 7'], axis = 1, inplace = True)"
   ]
  },
  {
   "cell_type": "code",
   "execution_count": 320,
   "metadata": {
    "ExecuteTime": {
     "end_time": "2019-12-14T08:27:11.122663Z",
     "start_time": "2019-12-14T08:27:11.109625Z"
    }
   },
   "outputs": [
    {
     "data": {
      "text/html": [
       "<div>\n",
       "<style scoped>\n",
       "    .dataframe tbody tr th:only-of-type {\n",
       "        vertical-align: middle;\n",
       "    }\n",
       "\n",
       "    .dataframe tbody tr th {\n",
       "        vertical-align: top;\n",
       "    }\n",
       "\n",
       "    .dataframe thead th {\n",
       "        text-align: right;\n",
       "    }\n",
       "</style>\n",
       "<table border=\"1\" class=\"dataframe\">\n",
       "  <thead>\n",
       "    <tr style=\"text-align: right;\">\n",
       "      <th></th>\n",
       "      <th>Record #</th>\n",
       "      <th>Chief Complaint</th>\n",
       "      <th>Age</th>\n",
       "      <th>Sex</th>\n",
       "      <th>Acuity (initial)</th>\n",
       "      <th>Area of Care</th>\n",
       "      <th>Disposition</th>\n",
       "      <th>ICD-9 1</th>\n",
       "      <th>In ED</th>\n",
       "      <th>ICD-level1</th>\n",
       "      <th>class</th>\n",
       "    </tr>\n",
       "  </thead>\n",
       "  <tbody>\n",
       "    <tr>\n",
       "      <th>36159</th>\n",
       "      <td>47562</td>\n",
       "      <td>chest pain</td>\n",
       "      <td>48yr</td>\n",
       "      <td>F</td>\n",
       "      <td>2.0</td>\n",
       "      <td>North</td>\n",
       "      <td>Home</td>\n",
       "      <td>786.59</td>\n",
       "      <td>724.0</td>\n",
       "      <td>786</td>\n",
       "      <td>SYMPTOMS</td>\n",
       "    </tr>\n",
       "  </tbody>\n",
       "</table>\n",
       "</div>"
      ],
      "text/plain": [
       "       Record # Chief Complaint   Age Sex  Acuity (initial) Area of Care  \\\n",
       "36159     47562      chest pain  48yr   F               2.0        North   \n",
       "\n",
       "      Disposition ICD-9 1  In ED ICD-level1     class  \n",
       "36159        Home  786.59  724.0        786  SYMPTOMS  "
      ]
     },
     "execution_count": 320,
     "metadata": {},
     "output_type": "execute_result"
    }
   ],
   "source": [
    "df.sample()"
   ]
  },
  {
   "cell_type": "markdown",
   "metadata": {},
   "source": [
    "# Saving dataset"
   ]
  },
  {
   "cell_type": "code",
   "execution_count": 321,
   "metadata": {
    "ExecuteTime": {
     "end_time": "2019-12-14T08:27:13.737149Z",
     "start_time": "2019-12-14T08:27:13.514341Z"
    }
   },
   "outputs": [],
   "source": [
    "df.to_csv('ICD_preprocessed_dataset')"
   ]
  }
 ],
 "metadata": {
  "kernelspec": {
   "display_name": "Python 3",
   "language": "python",
   "name": "python3"
  },
  "language_info": {
   "codemirror_mode": {
    "name": "ipython",
    "version": 3
   },
   "file_extension": ".py",
   "mimetype": "text/x-python",
   "name": "python",
   "nbconvert_exporter": "python",
   "pygments_lexer": "ipython3",
   "version": "3.7.3"
  },
  "toc": {
   "base_numbering": 1,
   "nav_menu": {},
   "number_sections": true,
   "sideBar": true,
   "skip_h1_title": false,
   "title_cell": "Table of Contents",
   "title_sidebar": "Contents",
   "toc_cell": false,
   "toc_position": {
    "height": "calc(100% - 180px)",
    "left": "10px",
    "top": "150px",
    "width": "274px"
   },
   "toc_section_display": true,
   "toc_window_display": true
  }
 },
 "nbformat": 4,
 "nbformat_minor": 2
}

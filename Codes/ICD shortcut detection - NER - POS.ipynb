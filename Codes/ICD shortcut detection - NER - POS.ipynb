{
 "cells": [
  {
   "cell_type": "markdown",
   "metadata": {},
   "source": [
    "# Importing Libraries and Data"
   ]
  },
  {
   "cell_type": "code",
   "execution_count": 114,
   "metadata": {
    "ExecuteTime": {
     "end_time": "2019-12-14T10:28:44.000884Z",
     "start_time": "2019-12-14T10:28:43.923006Z"
    }
   },
   "outputs": [
    {
     "name": "stderr",
     "output_type": "stream",
     "text": [
      "[nltk_data] Downloading package punkt to /Users/kaushik-\n",
      "[nltk_data]     shakkari/nltk_data...\n",
      "[nltk_data]   Package punkt is already up-to-date!\n",
      "[nltk_data] Downloading package wordnet to /Users/kaushik-\n",
      "[nltk_data]     shakkari/nltk_data...\n",
      "[nltk_data]   Package wordnet is already up-to-date!\n",
      "[nltk_data] Downloading package averaged_perceptron_tagger to\n",
      "[nltk_data]     /Users/kaushik-shakkari/nltk_data...\n",
      "[nltk_data]   Package averaged_perceptron_tagger is already up-to-\n",
      "[nltk_data]       date!\n"
     ]
    }
   ],
   "source": [
    "import pandas as pd\n",
    "import nltk\n",
    "nltk.download('punkt')\n",
    "nltk.download('wordnet')\n",
    "nltk.download('averaged_perceptron_tagger')\n",
    "from nltk.tokenize import word_tokenize\n",
    "from nltk.tag import pos_tag\n",
    "import spacy\n",
    "from spacy import displacy\n",
    "import en_core_web_sm\n",
    "from gensim.models import Word2Vec"
   ]
  },
  {
   "cell_type": "code",
   "execution_count": 103,
   "metadata": {
    "ExecuteTime": {
     "end_time": "2019-12-14T10:26:33.322504Z",
     "start_time": "2019-12-14T10:26:33.154370Z"
    }
   },
   "outputs": [],
   "source": [
    "df =pd.read_csv('ICD_preprocessed_dataset',index_col=[0])"
   ]
  },
  {
   "cell_type": "code",
   "execution_count": 177,
   "metadata": {
    "ExecuteTime": {
     "end_time": "2019-12-14T10:37:19.144136Z",
     "start_time": "2019-12-14T10:37:19.056902Z"
    }
   },
   "outputs": [
    {
     "data": {
      "text/html": [
       "<div>\n",
       "<style scoped>\n",
       "    .dataframe tbody tr th:only-of-type {\n",
       "        vertical-align: middle;\n",
       "    }\n",
       "\n",
       "    .dataframe tbody tr th {\n",
       "        vertical-align: top;\n",
       "    }\n",
       "\n",
       "    .dataframe thead th {\n",
       "        text-align: right;\n",
       "    }\n",
       "</style>\n",
       "<table border=\"1\" class=\"dataframe\">\n",
       "  <thead>\n",
       "    <tr style=\"text-align: right;\">\n",
       "      <th></th>\n",
       "      <th>Record #</th>\n",
       "      <th>Chief Complaint</th>\n",
       "      <th>Age</th>\n",
       "      <th>Sex</th>\n",
       "      <th>Acuity (initial)</th>\n",
       "      <th>Area of Care</th>\n",
       "      <th>Disposition</th>\n",
       "      <th>ICD-9 1</th>\n",
       "      <th>In ED</th>\n",
       "      <th>ICD-level1</th>\n",
       "      <th>class</th>\n",
       "    </tr>\n",
       "  </thead>\n",
       "  <tbody>\n",
       "    <tr>\n",
       "      <th>28085</th>\n",
       "      <td>37140</td>\n",
       "      <td>chest pain</td>\n",
       "      <td>47yr</td>\n",
       "      <td>F</td>\n",
       "      <td>3.0</td>\n",
       "      <td>North</td>\n",
       "      <td>Home</td>\n",
       "      <td>786.59</td>\n",
       "      <td>297.0</td>\n",
       "      <td>786</td>\n",
       "      <td>SYMPTOMS</td>\n",
       "    </tr>\n",
       "    <tr>\n",
       "      <th>10981</th>\n",
       "      <td>14525</td>\n",
       "      <td>left ear pain x years</td>\n",
       "      <td>58yr</td>\n",
       "      <td>F</td>\n",
       "      <td>4.0</td>\n",
       "      <td>UADC</td>\n",
       "      <td>Home</td>\n",
       "      <td>388.70</td>\n",
       "      <td>97.0</td>\n",
       "      <td>388</td>\n",
       "      <td>DISEASES OF THE NERVOUS SYSTEM AND SENSE ORGANS</td>\n",
       "    </tr>\n",
       "    <tr>\n",
       "      <th>40783</th>\n",
       "      <td>53590</td>\n",
       "      <td>dizziness</td>\n",
       "      <td>27yr</td>\n",
       "      <td>M</td>\n",
       "      <td>3.0</td>\n",
       "      <td>Resuscitation</td>\n",
       "      <td>Home</td>\n",
       "      <td>386.10</td>\n",
       "      <td>105.0</td>\n",
       "      <td>386</td>\n",
       "      <td>DISEASES OF THE NERVOUS SYSTEM AND SENSE ORGANS</td>\n",
       "    </tr>\n",
       "    <tr>\n",
       "      <th>9846</th>\n",
       "      <td>12985</td>\n",
       "      <td>command auditary hallucinations kill</td>\n",
       "      <td>31yr</td>\n",
       "      <td>M</td>\n",
       "      <td>3.0</td>\n",
       "      <td>Psych Lock-down</td>\n",
       "      <td>Transfer to Outside Facility</td>\n",
       "      <td>298.9</td>\n",
       "      <td>417.0</td>\n",
       "      <td>298</td>\n",
       "      <td>MENTAL DISORDERS</td>\n",
       "    </tr>\n",
       "    <tr>\n",
       "      <th>11350</th>\n",
       "      <td>14995</td>\n",
       "      <td>back pain heavy lifting</td>\n",
       "      <td>31yr</td>\n",
       "      <td>M</td>\n",
       "      <td>3.0</td>\n",
       "      <td>UADC</td>\n",
       "      <td>Home</td>\n",
       "      <td>847.9</td>\n",
       "      <td>197.0</td>\n",
       "      <td>847</td>\n",
       "      <td>INJURY AND POISONING</td>\n",
       "    </tr>\n",
       "  </tbody>\n",
       "</table>\n",
       "</div>"
      ],
      "text/plain": [
       "       Record #                       Chief Complaint   Age Sex  \\\n",
       "28085     37140                            chest pain  47yr   F   \n",
       "10981     14525                 left ear pain x years  58yr   F   \n",
       "40783     53590                             dizziness  27yr   M   \n",
       "9846      12985  command auditary hallucinations kill  31yr   M   \n",
       "11350     14995               back pain heavy lifting  31yr   M   \n",
       "\n",
       "       Acuity (initial)     Area of Care                   Disposition  \\\n",
       "28085               3.0            North                          Home   \n",
       "10981               4.0             UADC                          Home   \n",
       "40783               3.0    Resuscitation                          Home   \n",
       "9846                3.0  Psych Lock-down  Transfer to Outside Facility   \n",
       "11350               3.0             UADC                          Home   \n",
       "\n",
       "      ICD-9 1  In ED ICD-level1  \\\n",
       "28085  786.59  297.0        786   \n",
       "10981  388.70   97.0        388   \n",
       "40783  386.10  105.0        386   \n",
       "9846    298.9  417.0        298   \n",
       "11350   847.9  197.0        847   \n",
       "\n",
       "                                                 class  \n",
       "28085                                         SYMPTOMS  \n",
       "10981  DISEASES OF THE NERVOUS SYSTEM AND SENSE ORGANS  \n",
       "40783  DISEASES OF THE NERVOUS SYSTEM AND SENSE ORGANS  \n",
       "9846                                  MENTAL DISORDERS  \n",
       "11350                             INJURY AND POISONING  "
      ]
     },
     "execution_count": 177,
     "metadata": {},
     "output_type": "execute_result"
    }
   ],
   "source": [
    "df.sample(5)"
   ]
  },
  {
   "cell_type": "markdown",
   "metadata": {},
   "source": [
    "# Named Entrity Recognition & POS tagging - Not useful"
   ]
  },
  {
   "cell_type": "code",
   "execution_count": 106,
   "metadata": {
    "ExecuteTime": {
     "end_time": "2019-12-14T10:26:47.520935Z",
     "start_time": "2019-12-14T10:26:47.445739Z"
    }
   },
   "outputs": [],
   "source": [
    "def preprocess(sent):\n",
    "    sent = nltk.word_tokenize(sent)\n",
    "    sent = nltk.pos_tag(sent)\n",
    "    return sent"
   ]
  },
  {
   "cell_type": "code",
   "execution_count": 107,
   "metadata": {
    "ExecuteTime": {
     "end_time": "2019-12-14T10:26:50.048366Z",
     "start_time": "2019-12-14T10:26:49.940442Z"
    }
   },
   "outputs": [
    {
     "data": {
      "text/plain": [
       "[('Rt', 'NNP'),\n",
       " ('Hip', 'NNP'),\n",
       " ('Pain', 'NNP'),\n",
       " ('X', 'NNP'),\n",
       " ('3', 'CD'),\n",
       " ('Months', 'NNP'),\n",
       " ('/', 'NNP'),\n",
       " ('High', 'NNP'),\n",
       " ('B/P', 'NNP')]"
      ]
     },
     "execution_count": 107,
     "metadata": {},
     "output_type": "execute_result"
    }
   ],
   "source": [
    "sent = preprocess(\"Rt Hip Pain X 3 Months / High B/P\")\n",
    "sent"
   ]
  },
  {
   "cell_type": "code",
   "execution_count": 112,
   "metadata": {
    "ExecuteTime": {
     "end_time": "2019-12-14T10:28:03.872691Z",
     "start_time": "2019-12-14T10:28:02.952584Z"
    }
   },
   "outputs": [
    {
     "name": "stdout",
     "output_type": "stream",
     "text": [
      "[('European', 'NORP'), ('Google', 'ORG'), ('$5.1 billion', 'MONEY'), ('Wednesday', 'DATE')]\n"
     ]
    }
   ],
   "source": [
    "nlp = en_core_web_sm.load()\n",
    "doc = nlp('European authorities fined Google a record $5.1 billion on Wednesday for abusing its power in the mobile phone market and ordered the company to alter its practices')\n",
    "print([(X.text, X.label_) for X in doc.ents])"
   ]
  },
  {
   "cell_type": "code",
   "execution_count": 113,
   "metadata": {
    "ExecuteTime": {
     "end_time": "2019-12-14T10:28:19.854007Z",
     "start_time": "2019-12-14T10:28:19.767781Z"
    }
   },
   "outputs": [
    {
     "name": "stdout",
     "output_type": "stream",
     "text": [
      "[('5 Years', 'DATE')]\n"
     ]
    }
   ],
   "source": [
    "doc = nlp('Back Pain X 5 Years')\n",
    "print([(X.text, X.label_) for X in doc.ents])"
   ]
  },
  {
   "cell_type": "markdown",
   "metadata": {},
   "source": [
    "# Spell Correct Model using Word Embeddings"
   ]
  },
  {
   "cell_type": "code",
   "execution_count": 120,
   "metadata": {
    "ExecuteTime": {
     "end_time": "2019-12-14T10:29:30.538893Z",
     "start_time": "2019-12-14T10:29:30.462372Z"
    }
   },
   "outputs": [],
   "source": [
    "df[\"Chief Complaint\"] = df[\"Chief Complaint\"].astype(str)"
   ]
  },
  {
   "cell_type": "code",
   "execution_count": 121,
   "metadata": {
    "ExecuteTime": {
     "end_time": "2019-12-14T10:29:32.535427Z",
     "start_time": "2019-12-14T10:29:32.457190Z"
    }
   },
   "outputs": [],
   "source": [
    "sentences = list(df[\"Chief Complaint\"])"
   ]
  },
  {
   "cell_type": "code",
   "execution_count": 122,
   "metadata": {
    "ExecuteTime": {
     "end_time": "2019-12-14T10:29:33.385009Z",
     "start_time": "2019-12-14T10:29:33.293119Z"
    }
   },
   "outputs": [],
   "source": [
    "sentences = [sentence.lower().split() for sentence in sentences]"
   ]
  },
  {
   "cell_type": "code",
   "execution_count": 124,
   "metadata": {
    "ExecuteTime": {
     "end_time": "2019-12-14T10:29:41.877569Z",
     "start_time": "2019-12-14T10:29:41.799070Z"
    }
   },
   "outputs": [
    {
     "data": {
      "text/plain": [
       "[['nausea', 'vomiting', 'hx', 'ca'],\n",
       " ['earache'],\n",
       " ['right', 'foot', 'pain'],\n",
       " ['danger', 'others'],\n",
       " ['leg', 'laceration']]"
      ]
     },
     "execution_count": 124,
     "metadata": {},
     "output_type": "execute_result"
    }
   ],
   "source": [
    "sentences[:5]"
   ]
  },
  {
   "cell_type": "code",
   "execution_count": 125,
   "metadata": {
    "ExecuteTime": {
     "end_time": "2019-12-14T10:29:45.329327Z",
     "start_time": "2019-12-14T10:29:44.993356Z"
    }
   },
   "outputs": [],
   "source": [
    "model = Word2Vec(sentences=sentences)"
   ]
  },
  {
   "cell_type": "code",
   "execution_count": 126,
   "metadata": {
    "ExecuteTime": {
     "end_time": "2019-12-14T10:29:47.507974Z",
     "start_time": "2019-12-14T10:29:47.417222Z"
    }
   },
   "outputs": [],
   "source": [
    "model.save(\"w2c\")"
   ]
  },
  {
   "cell_type": "code",
   "execution_count": 181,
   "metadata": {
    "ExecuteTime": {
     "end_time": "2019-12-14T10:37:45.189098Z",
     "start_time": "2019-12-14T10:37:45.109857Z"
    }
   },
   "outputs": [
    {
     "data": {
      "text/plain": [
       "[('r', 0.9953384399414062),\n",
       " ('l', 0.9918990135192871),\n",
       " ('fracture', 0.9891060590744019),\n",
       " ('left', 0.9847270250320435),\n",
       " ('laceration', 0.9818863868713379),\n",
       " ('right', 0.9816086888313293),\n",
       " ('fx', 0.9787762761116028),\n",
       " ('swelling', 0.9784153699874878),\n",
       " ('lt', 0.9776512384414673),\n",
       " ('numbness', 0.9772960543632507)]"
      ]
     },
     "execution_count": 181,
     "metadata": {},
     "output_type": "execute_result"
    }
   ],
   "source": [
    "from gensim.models import KeyedVectors\n",
    "model.wv.most_similar(\"rt\")"
   ]
  },
  {
   "cell_type": "raw",
   "metadata": {},
   "source": [
    "From above word embeddings model, we can find all the shortcuts used by doctors:\n",
    "\n",
    "rt - r - right\n",
    "left - l\n",
    "fx - fracture\n",
    "ped - pedestrian\n",
    "abd - abdominal\n",
    "yrs - yr - years\n",
    "mth - month\n",
    "hrs - hours"
   ]
  }
 ],
 "metadata": {
  "kernelspec": {
   "display_name": "Python 3",
   "language": "python",
   "name": "python3"
  },
  "language_info": {
   "codemirror_mode": {
    "name": "ipython",
    "version": 3
   },
   "file_extension": ".py",
   "mimetype": "text/x-python",
   "name": "python",
   "nbconvert_exporter": "python",
   "pygments_lexer": "ipython3",
   "version": "3.7.3"
  },
  "toc": {
   "base_numbering": 1,
   "nav_menu": {},
   "number_sections": true,
   "sideBar": true,
   "skip_h1_title": false,
   "title_cell": "Table of Contents",
   "title_sidebar": "Contents",
   "toc_cell": false,
   "toc_position": {},
   "toc_section_display": true,
   "toc_window_display": true
  }
 },
 "nbformat": 4,
 "nbformat_minor": 2
}
